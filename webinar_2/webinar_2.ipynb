{
 "cells": [
  {
   "cell_type": "markdown",
   "id": "eef792db",
   "metadata": {},
   "source": [
    "# ДЗ по \"Введение в нейронные сети (Вебинар)\"\n",
    "\n",
    "## Вебинар 2. Keras \n",
    "* Домашнее задание:  \n",
    "  - Нарисуйте сами в Paint цифру пером и подайте на вход вашей нейронной сети, на выходе должна быть цифра от 0 до 9. Для работы с рисунками можно использовать Pillow.\n",
    "  - Обучите нейронную сеть от SKLEARN и потестируйте."
   ]
  },
  {
   "cell_type": "code",
   "execution_count": 1,
   "id": "3ae15c39",
   "metadata": {},
   "outputs": [],
   "source": [
    "# Устанавливаем пакеты в окружение, если они не установлены\n",
    "# !pip install scikeras[tensorflow]\n",
    "# !pip install numpy\n",
    "# !pip install matplotlib\n",
    "# !pip install Pillow"
   ]
  },
  {
   "cell_type": "code",
   "execution_count": 2,
   "id": "76ead9ca",
   "metadata": {},
   "outputs": [],
   "source": [
    "import keras\n",
    "from keras.datasets import mnist \n",
    "from keras.layers import Flatten, Dense\n",
    "import numpy as np\n",
    "import matplotlib.pyplot as plt\n",
    "from PIL import Image   # Библиотека работы с изображениями"
   ]
  },
  {
   "cell_type": "markdown",
   "id": "d6b369ee-aa2d-4f85-8830-87224c4a37f8",
   "metadata": {},
   "source": [
    "## Обучение и тестирование модели на Keras (последовательная модель Sequential)\n",
    "см. [ссылка](https://proproprogs.ru/tensorflow/keras-posledovatelnaya-model-sequential)"
   ]
  },
  {
   "cell_type": "code",
   "execution_count": 3,
   "id": "bb46a844-ebcb-4ea9-9c64-75014b928d87",
   "metadata": {},
   "outputs": [],
   "source": [
    "# Импортиртируем набор данных (для обучения и тестовый) MNIST из модуля Keras (картинки 28х28 пик. и цифры которые соответствуют картинкам) \n",
    "(x_train, y_train), (x_test, y_test) = keras.datasets.mnist.load_data()"
   ]
  },
  {
   "cell_type": "code",
   "execution_count": 4,
   "id": "f9275a20-d92d-4c3a-a10d-a5d767e9d8a5",
   "metadata": {},
   "outputs": [],
   "source": [
    "# Нормализуем данные (все данные в массиве, делим на 255)\n",
    "x_train = x_train / 255\n",
    "x_test = x_test / 255"
   ]
  },
  {
   "cell_type": "code",
   "execution_count": 5,
   "id": "0992b99d-34dc-4d17-a747-6799e6dfbc91",
   "metadata": {},
   "outputs": [],
   "source": [
    "# Преобразовывает вектор класса (целые числа) в двоичную матрицу класса\n",
    "y_train_cat = keras.utils.to_categorical(y_train, 10)\n",
    "y_test_cat = keras.utils.to_categorical(y_test, 10)"
   ]
  },
  {
   "cell_type": "code",
   "execution_count": 6,
   "id": "ef2483b2-5ea0-4568-a2f7-bc1875ecde09",
   "metadata": {},
   "outputs": [],
   "source": [
    "# Задаем входной формат данных для модели\n",
    "input_shape = (28, 28, 1)"
   ]
  },
  {
   "cell_type": "code",
   "execution_count": 7,
   "id": "4bb38362-f0c5-42a7-9678-5154c6461b32",
   "metadata": {},
   "outputs": [],
   "source": [
    "# Создаем модель Keras - последовательная модель Sequential\n",
    "model_2 = keras.Sequential([\n",
    "    keras.Input(shape=input_shape),   # устанавливаем входной формат данных\n",
    "    Flatten(),                        # сглаживание\n",
    "    Dense(90, activation = 'relu'),   # Слой нейронной сети из 90 нейронов и функцией активации 'relu'\n",
    "    Dense(10, activation = 'softmax') # Слой нейронной сети из 10 нейронов и функцией активации 'softmax'\n",
    "    ])"
   ]
  },
  {
   "cell_type": "code",
   "execution_count": 8,
   "id": "a935a2c0-5a1d-4b16-aadd-1ffbc2446b88",
   "metadata": {},
   "outputs": [],
   "source": [
    "# Компилируем модель\n",
    "model_2.compile(optimizer='Adam',          # выбираем оптимизатор\n",
    "             loss='categorical_crossentropy',  # выбираем функцию потерь\n",
    "             metrics=['accuracy'])             # выбираем метрику"
   ]
  },
  {
   "cell_type": "code",
   "execution_count": 9,
   "id": "5d95f874",
   "metadata": {},
   "outputs": [
    {
     "name": "stdout",
     "output_type": "stream",
     "text": [
      "Epoch 1/10\n",
      "1875/1875 [==============================] - 2s 983us/step - loss: 0.2808 - accuracy: 0.9206 - val_loss: 0.1555 - val_accuracy: 0.9534\n",
      "Epoch 2/10\n",
      "1875/1875 [==============================] - 2s 949us/step - loss: 0.1275 - accuracy: 0.9621 - val_loss: 0.1057 - val_accuracy: 0.9672\n",
      "Epoch 3/10\n",
      "1875/1875 [==============================] - 2s 1ms/step - loss: 0.0894 - accuracy: 0.9729 - val_loss: 0.0947 - val_accuracy: 0.9698\n",
      "Epoch 4/10\n",
      "1875/1875 [==============================] - 2s 962us/step - loss: 0.0685 - accuracy: 0.9790 - val_loss: 0.0813 - val_accuracy: 0.9758\n",
      "Epoch 5/10\n",
      "1875/1875 [==============================] - 2s 929us/step - loss: 0.0540 - accuracy: 0.9835 - val_loss: 0.0813 - val_accuracy: 0.9735\n",
      "Epoch 6/10\n",
      "1875/1875 [==============================] - 2s 942us/step - loss: 0.0445 - accuracy: 0.9861 - val_loss: 0.0720 - val_accuracy: 0.9776\n",
      "Epoch 7/10\n",
      "1875/1875 [==============================] - 2s 930us/step - loss: 0.0364 - accuracy: 0.9883 - val_loss: 0.0806 - val_accuracy: 0.9750\n",
      "Epoch 8/10\n",
      "1875/1875 [==============================] - 2s 924us/step - loss: 0.0304 - accuracy: 0.9902 - val_loss: 0.0786 - val_accuracy: 0.9758\n",
      "Epoch 9/10\n",
      "1875/1875 [==============================] - 2s 918us/step - loss: 0.0262 - accuracy: 0.9923 - val_loss: 0.0800 - val_accuracy: 0.9779\n",
      "Epoch 10/10\n",
      "1875/1875 [==============================] - 2s 943us/step - loss: 0.0205 - accuracy: 0.9936 - val_loss: 0.0769 - val_accuracy: 0.9784\n",
      "CPU times: total: 2.86 s\n",
      "Wall time: 18.3 s\n"
     ]
    }
   ],
   "source": [
    "%%time\n",
    "# Обучение и сохранение истории обучения с одновременной оценкой на тестовых данных (чтобы удостовериться, что переобучения не произошло)\n",
    "history = model_2.fit(x_train, y_train_cat, batch_size=32, epochs=10, validation_data =(x_test, y_test_cat))"
   ]
  },
  {
   "cell_type": "markdown",
   "id": "0d7cea0c-0452-4dbf-8b9a-3afdfcfc0af7",
   "metadata": {},
   "source": [
    "### Отрисовка потерь и точности модели (при обучении и на тестовых данных)"
   ]
  },
  {
   "cell_type": "code",
   "execution_count": 10,
   "id": "fb46e675",
   "metadata": {},
   "outputs": [
    {
     "data": {
      "image/png": "[encoded data removed]",
      "text/plain": [
       "<Figure size 640x480 with 1 Axes>"
      ]
     },
     "metadata": {},
     "output_type": "display_data"
    }
   ],
   "source": [
    "plt.plot(history.history['accuracy'])\n",
    "plt.plot(history.history['val_accuracy'])\n",
    "plt.title('Точность модели')\n",
    "plt.ylabel('точность')\n",
    "plt.xlabel('количество эпох')\n",
    "plt.legend(['train', 'test'], loc='upper left')\n",
    "plt.show()"
   ]
  },
  {
   "cell_type": "code",
   "execution_count": 11,
   "id": "59e1a364",
   "metadata": {},
   "outputs": [
    {
     "data": {
      "image/png": "[encoded data removed]",
      "text/plain": [
       "<Figure size 640x480 with 1 Axes>"
      ]
     },
     "metadata": {},
     "output_type": "display_data"
    }
   ],
   "source": [
    "plt.plot(history.history['loss'])\n",
    "plt.plot(history.history['val_loss'])\n",
    "plt.title('Потери модели')\n",
    "plt.ylabel('Потери')\n",
    "plt.xlabel('количество эпох')\n",
    "plt.legend(['train', 'test'], loc='upper left')\n",
    "plt.show()"
   ]
  },
  {
   "cell_type": "markdown",
   "id": "4ded8ca1-1d19-40bc-8d27-61e793637bf0",
   "metadata": {},
   "source": [
    "## Распознование своих рукописных цифр"
   ]
  },
  {
   "cell_type": "markdown",
   "id": "15780af3-c13c-4ad4-b163-8da9b4e09e82",
   "metadata": {},
   "source": [
    "### Работа с рукописнывми цифрами\n",
    "см. [ссылка](https://fixmypc.ru/post/izmenenie-razmera-kartinki-v-python-s-pillow-pil/#izmenenie-razmera-izobrazheniia-s-resize)"
   ]
  },
  {
   "cell_type": "code",
   "execution_count": 12,
   "id": "f0053a06-60f5-441b-b228-15d5bb6c70b6",
   "metadata": {},
   "outputs": [],
   "source": [
    "img_array = np.array([])\n",
    "for i in range(1, 6):\n",
    "    # Загружаем картинку, переводим изображение в двумерную матрицу, делаем картинку черно-белой и нормализуем её\n",
    "    img = np.asarray(Image.open(f'img\\img_{i}.jpg').convert('L').resize((28, 28)), ) / 255\n",
    "    # Добавляем картинку в массив\n",
    "    img_array = np.append(img_array, img) \n",
    "else:\n",
    "    # Задаем размер матрицы (для 5 изображений будет 5, 28, 28)\n",
    "    img_array = img_array.reshape(i, 28, 28)\n",
    "    # Делаем прозрачный фон (белый цвет->прозрачный)\n",
    "    img_array[img_array > 0.9 ] = 0"
   ]
  },
  {
   "cell_type": "code",
   "execution_count": 13,
   "id": "34ddb334-1e7c-4747-a7b9-81b383beff81",
   "metadata": {},
   "outputs": [
    {
     "data": {
      "image/png": "[encoded data removed]",
      "text/plain": [
       "<Figure size 640x480 with 5 Axes>"
      ]
     },
     "metadata": {},
     "output_type": "display_data"
    }
   ],
   "source": [
    "# Выведем собственные рукописные цыфры\n",
    "for i in range(5):\n",
    "    plt.subplot(1, 5, i+1)\n",
    "    plt.imshow(img_array[i])\n",
    "    # Убираем подписи к осям рисунков\n",
    "    plt.xticks([])\n",
    "    plt.yticks([])\n",
    "plt.show()\n"
   ]
  },
  {
   "cell_type": "markdown",
   "id": "cacfb587-916e-4ae1-b51a-605206c4d550",
   "metadata": {},
   "source": [
    "### Предсказание рукописных цифр\n",
    "метод [predict](https://keras.io/api/models/model_training_apis/#predict-method)"
   ]
  },
  {
   "cell_type": "code",
   "execution_count": 14,
   "id": "a45fc9e2-3a51-4502-a7a2-8ddcfadf18d5",
   "metadata": {},
   "outputs": [
    {
     "name": "stdout",
     "output_type": "stream",
     "text": [
      "1/1 [==============================] - 0s 43ms/step\n",
      "Predictions: [3 2 4 5 8]\n"
     ]
    }
   ],
   "source": [
    "# Предсказываем 5-ть рукописных цыфр\n",
    "predictions = model_2.predict(img_array[:5])\n",
    "\n",
    "# Выведем результат предсказания\n",
    "print(f'Predictions: {np.argmax(predictions, axis=1)}')"
   ]
  },
  {
   "cell_type": "markdown",
   "id": "03321223-be0d-4690-956a-8112251ab41b",
   "metadata": {},
   "source": [
    "### Сохранение и загрузка модели предсказания"
   ]
  },
  {
   "cell_type": "code",
   "execution_count": 15,
   "id": "f19e823d-3f85-4110-b13d-609872492883",
   "metadata": {},
   "outputs": [
    {
     "name": "stderr",
     "output_type": "stream",
     "text": [
      "WARNING:absl:Found untraced functions such as _update_step_xla while saving (showing 1 of 1). These functions will not be directly callable after loading.\n"
     ]
    },
    {
     "name": "stdout",
     "output_type": "stream",
     "text": [
      "INFO:tensorflow:Assets written to: predict_uc20100\\assets\n"
     ]
    },
    {
     "name": "stderr",
     "output_type": "stream",
     "text": [
      "INFO:tensorflow:Assets written to: predict_uc20100\\assets\n"
     ]
    }
   ],
   "source": [
    "# Сохраняем модель\n",
    "model_2.save('predict_uc20100')"
   ]
  },
  {
   "cell_type": "code",
   "execution_count": 16,
   "id": "86068fb0-f038-43c3-8c7c-7f24a604d650",
   "metadata": {},
   "outputs": [],
   "source": [
    "# Проверим как работает загрузка модели\n",
    "model_loaded = keras.models.load_model('predict_uc20100')"
   ]
  },
  {
   "cell_type": "code",
   "execution_count": 17,
   "id": "b29f1ab7-80fd-4e26-a0cb-954123525a30",
   "metadata": {},
   "outputs": [
    {
     "name": "stdout",
     "output_type": "stream",
     "text": [
      "313/313 [==============================] - 0s 706us/step - loss: 0.0769 - accuracy: 0.9784\n",
      "test loss, test acc: [0.07691574841737747, 0.9783999919891357]\n"
     ]
    }
   ],
   "source": [
    "# Оцениваем работу загруженной модели на тестовых данных\n",
    "results = model_loaded.evaluate(x_test, y_test_cat)\n",
    "print('test loss, test acc:', results)"
   ]
  },
  {
   "cell_type": "code",
   "execution_count": 18,
   "id": "56f06b02-751c-4766-9e8a-255e5bb35eef",
   "metadata": {},
   "outputs": [
    {
     "name": "stdout",
     "output_type": "stream",
     "text": [
      "1/1 [==============================] - 0s 34ms/step\n",
      "Predictions: [3 2 4 5 8]\n"
     ]
    }
   ],
   "source": [
    "# Повторно предскажем наши рукописные цыфры для загруженной модели\n",
    "predictions = model_loaded.predict(img_array[:5])\n",
    "print(f'Predictions: {np.argmax(predictions, axis=1)}')"
   ]
  },
  {
   "cell_type": "code",
   "execution_count": 19,
   "id": "844d7d51",
   "metadata": {},
   "outputs": [
    {
     "name": "stdout",
     "output_type": "stream",
     "text": [
      "3.11.7 | packaged by Anaconda, Inc. | (main, Dec 15 2023, 18:05:47) [MSC v.1916 64 bit (AMD64)]\n"
     ]
    }
   ],
   "source": [
    "import sys\n",
    "print(sys.version)"
   ]
  },
  {
   "cell_type": "markdown",
   "id": "f81ab170-3afb-443e-b573-a9dc357a9bc6",
   "metadata": {},
   "source": [
    "## Вывод: Веса на входы нейронов подбираются каждый раз рандомно при запуске notebook, соответственно графики и сама модель будет отличаться. Количество нейронов и эпох тоже надо подбирать экспериментально. Выполнив данное ДЗ я на практике увидел как это все работает и даже создал собственную НС которая смогла распознать мои рукописные цифры."
   ]
  }
 ],
 "metadata": {
  "kernelspec": {
   "display_name": "Python 3 (ipykernel)",
   "language": "python",
   "name": "python3"
  },
  "language_info": {
   "codemirror_mode": {
    "name": "ipython",
    "version": 3
   },
   "file_extension": ".py",
   "mimetype": "text/x-python",
   "name": "python",
   "nbconvert_exporter": "python",
   "pygments_lexer": "ipython3",
   "version": "3.11.7"
  }
 },
 "nbformat": 4,
 "nbformat_minor": 5
}
