{
 "cells": [
  {
   "cell_type": "markdown",
   "metadata": {},
   "source": [
    "# Вебинар 8. GAN\n",
    "\n",
    "* Домашнее задание:  \n",
    "Сдавать как обычно.\n",
    "\n",
    "- Задание - Обучите нейронную сеть любой архитектуры на каком-то производственном датасете. Сделайте анализ того, \n",
    "что вам помогло в улучшения работы нейронной сети.\n",
    "Можно сегментацию по Северстали.\n",
    "\n",
    "- В конце, обязательно подвести вывод.\n",
    "\n",
    "- Данная промежуточная аттестация оценивается по системе \"зачет\" / \"не зачет\"\n",
    "Зачет\" ставится, если слушатель успешно выполнил задание 1 или 2 задания\n",
    "\"Незачет\"\" ставится, если слушатель не выплнил 0 заданий\n",
    "\n",
    "Критерии оценивания:\n",
    "- Слушатель обучите нейронную сеть и сделал анализ того, что вам помогло в улучшения работы нейронной сети\n",
    "Слушатель сделал краткий обзор научной работы, посвящённой алгоритму нейронных сетей, не рассматриваемому ранее \n",
    "на курсе.\n",
    "\n",
    "---\n",
    "Полезные ссылки:   \n",
    "[Введение в библиотеку Transformers и платформу Hugging Face](https://habr.com/ru/articles/704592/);  \n",
    "[Высокопроизводительная генерация изображений с помощью технологии Stable Diffusion в KerasCV](https://keras.io/guides/keras_cv/generate_images_with_stable_diffusion/);  \n",
    "[Генеративно-состязательная нейросеть (GAN) для подмены лиц](https://github.com/alvinahmadov/faceswap-parts)."
   ]
  },
  {
   "cell_type": "markdown",
   "metadata": {},
   "source": [
    "# Генеративно-состязательная нейросеть: ваша первая GAN-модель на PyTorch\n",
    "\n",
    "Рассмотрим принципы построения генеративно-состязательных нейросетей (GAN) на примере двух моделей, реализованных с помощью фреймворка глубокого обучения PyTorch.\n",
    "\n",
    "Текст статьи представляет собой незначительно сокращенный перевод публикации Ренато Кандидо [Generative Adversarial Networks: Build Your First Models](https://realpython.com/generative-adversarial-networks/).\n",
    "\n",
    "Генеративно-состязательные сети (англ. Generative adversarial networks, сокр. GAN) – [нейронные сети](https://ru.wikipedia.org/wiki/%D0%9D%D0%B5%D0%B9%D1%80%D0%BE%D0%BD%D0%BD%D0%B0%D1%8F_%D1%81%D0%B5%D1%82%D1%8C), которые умеют генерировать изображения, музыку, речь и тексты, похожие на те, что делают люди. GAN стали активной темой исследований последних лет. Директор лаборатории искусственного интеллекта Facebook [Ян Лекун](https://ru.wikipedia.org/wiki/%D0%9B%D0%B5%D0%BA%D1%83%D0%BD,_%D0%AF%D0%BD) назвал состязательное обучение «самой интересной идеей в области машинного обучения за последние 10 лет». Ниже мы изучим, как работают GAN и создадим две модели с помощью [фреймворка глубокого обучения](https://proglib.io/p/dl-frameworks) PyTorch.\n",
    "\n",
    "---\n",
    "**Примечание**. Материал этой статьи требует хотя бы поверхностного знакомства с нейросетями и Python. Вводные сведения об устройстве нейросетей можно получить из публикации [«Наглядное введение в нейросети на примере распознавания цифр»](https://proglib.io/p/neural-network-course).\n",
    "\n",
    "---\n",
    "\n",
    "# Что такое генеративно-состязательная нейросеть?\n",
    "\n",
    "[Генеративно-состязательная нейросеть](https://ru.wikipedia.org/wiki/%D0%93%D0%B5%D0%BD%D0%B5%D1%80%D0%B0%D1%82%D0%B8%D0%B2%D0%BD%D0%BE-%D1%81%D0%BE%D1%81%D1%82%D1%8F%D0%B7%D0%B0%D1%82%D0%B5%D0%BB%D1%8C%D0%BD%D0%B0%D1%8F_%D1%81%D0%B5%D1%82%D1%8C) (англ. Generative adversarial network, сокращённо GAN) – это модель машинного обучения, умеющая имитировать заданное распределение данных. Впервые модель была предложена в [статье NeurIPS](https://papers.nips.cc/paper/5423-generative-adversarial-nets.pdf) 2014 г. экспертом в глубоком обучении Яном Гудфеллоу и его коллегами.\n",
    "\n",
    "GAN состоят из двух нейронных сетей, одна из которых обучена генерировать данные, а другая – отличать смоделированные данные от реальных (отсюда и «состязательный» характер модели). Генеративно-состязательные нейросети показывают впечатляющие результаты в отношении генерации изображений и видео:\n",
    "* Перенос стилей ([CycleGAN](https://github.com/junyanz/CycleGAN/)) – преобразование одного изображения в соответствии со стилем других изображений (например, картин известного художника)\n",
    "* Генерация человеческих лиц ([StyleGAN](https://en.wikipedia.org/wiki/StyleGAN)), реалистичные примеры доступны на сайте [This Person Does Not Exist](https://www.thispersondoesnotexist.com/).\n",
    "\n",
    "---\n",
    "\n",
    "**Примечание**. Последним успехам нейросетей посвящен тест Библиотеки программиста [«Правда или ложь: что умеют нейросети?»](https://proglib.io/tests/pravda-ili-lozh-chto-umeyut-neyroseti)\n",
    "\n",
    "---\n",
    "\n",
    "GAN и другие структуры, генерирующие данные, называют **генеративными моделями** в противовес более широко изученным **дискриминативным моделям**. Прежде чем погрузиться в GAN, посмотрим на различия между двумя типами моделей.\n",
    "\n",
    "# Сравнение дискриминативных и генеративных моделей машинного обучения\n",
    "\n",
    "Дискриминативные модели используются для большинства задач [«обучения с учителем»](https://ru.wikipedia.org/wiki/%D0%9E%D0%B1%D1%83%D1%87%D0%B5%D0%BD%D0%B8%D0%B5_%D1%81_%D1%83%D1%87%D0%B8%D1%82%D0%B5%D0%BB%D0%B5%D0%BC) на [классификацию](https://ru.wikipedia.org/wiki/%D0%97%D0%B0%D0%B4%D0%B0%D1%87%D0%B0_%D0%BA%D0%BB%D0%B0%D1%81%D1%81%D0%B8%D1%84%D0%B8%D0%BA%D0%B0%D1%86%D0%B8%D0%B8) или [регрессию](https://ru.wikipedia.org/wiki/%D0%A0%D0%B5%D0%B3%D1%80%D0%B5%D1%81%D1%81%D0%B8%D0%BE%D0%BD%D0%BD%D1%8B%D0%B9_%D0%B0%D0%BD%D0%B0%D0%BB%D0%B8%D0%B7). В качестве примера проблемы классификации предположим, что нужно обучить [модель распознавания изображений рукописных цифр](https://proglib.io/p/neural-network-course). Для этого мы можем использовать маркированный набор данных, содержащий фотографии рукописных цифр, которым соотнесены сами цифры.\n",
    "\n",
    "Обучение сводится к настройке параметров модели с помощью специального алгоритма, [минимизирующего функцию потерь](https://ru.wikipedia.org/wiki/%D0%A4%D1%83%D0%BD%D0%BA%D1%86%D0%B8%D1%8F_%D0%BF%D0%BE%D1%82%D0%B5%D1%80%D1%8C). Функция потерь – критерий расхождения между истинным значением оцениваемого параметра и его ожиданием. После фазы обучения мы можем использовать модель для классификации нового (ранее не рассматриваемого) изображения рукописной цифры, сопоставив входному изображению наиболее вероятную цифру.\n",
    "\n",
    "![](https://files.realpython.com/media/fig_discriminative.9c22a1cd877d.png)\n",
    "*Схема обучения дискриминативной модели*\n",
    "\n",
    "Дискриминативная модель использует обучающие данные для нахождения границ между классами. Найденные границы используются, чтобы различить новые входные данные и предсказать их класс. В математическом отношении дискриминативные модели изучают [условную вероятность](https://ru.wikipedia.org/wiki/%D0%A3%D1%81%D0%BB%D0%BE%D0%B2%D0%BD%D0%B0%D1%8F_%D0%B2%D0%B5%D1%80%D0%BE%D1%8F%D1%82%D0%BD%D0%BE%D1%81%D1%82%D1%8C) $P(y|x)$ наблюдения $y$ при заданном входе $x$.\n",
    "\n",
    "Дискриминативные модели – это не только нейронные сети, но и [логистическая регрессия](https://ru.wikipedia.org/wiki/%D0%9B%D0%BE%D0%B3%D0%B8%D1%81%D1%82%D0%B8%D1%87%D0%B5%D1%81%D0%BA%D0%B0%D1%8F_%D1%80%D0%B5%D0%B3%D1%80%D0%B5%D1%81%D1%81%D0%B8%D1%8F), и [метод опорных векторов (SVM)](https://ru.wikipedia.org/wiki/%D0%9C%D0%B5%D1%82%D0%BE%D0%B4_%D0%BE%D0%BF%D0%BE%D1%80%D0%BD%D1%8B%D1%85_%D0%B2%D0%B5%D0%BA%D1%82%D0%BE%D1%80%D0%BE%D0%B2).\n",
    "\n",
    "В то время как дискриминативные модели используются для контролируемого обучения, генеративные модели обычно используют неразмеченный набор данных, то есть могут рассматриваться как форма [обучения без учителя](https://ru.wikipedia.org/wiki/%D0%9E%D0%B1%D1%83%D1%87%D0%B5%D0%BD%D0%B8%D0%B5_%D0%B1%D0%B5%D0%B7_%D1%83%D1%87%D0%B8%D1%82%D0%B5%D0%BB%D1%8F). Так, используя набор данных из рукописных цифр, можно обучить генеративную модель для генерации новых изображений.\n",
    "\n",
    "![](https://files.realpython.com/media/fig_generative.5f01c08f5208.png)\n",
    "*Схема обучения генеративной модели*\n",
    "\n",
    "В отличие от дискриминативных моделей, генеративные модели изучают свойства [функции вероятности](https://ru.wikipedia.org/wiki/%D0%A4%D1%83%D0%BD%D0%BA%D1%86%D0%B8%D1%8F_%D0%B2%D0%B5%D1%80%D0%BE%D1%8F%D1%82%D0%BD%D0%BE%D1%81%D1%82%D0%B8) $P(x)$ входных данных $x$. В результате они порождают не предсказание, а новый объект со свойствами, родственными обучающему набору данных.\n",
    "\n",
    "---\n",
    "\n",
    "**Примечание**. Генеративные модели можно использовать и для размеченных наборов данных, но  когда речь идет о классификации, дискриминативные модели обычно работают лучше.\n",
    "\n",
    "---\n",
    "\n",
    "Помимо GAN существуют другие генеративные архитектуры:\n",
    "* [Машина Больцмана](https://ru.wikipedia.org/wiki/%D0%9C%D0%B0%D1%88%D0%B8%D0%BD%D0%B0_%D0%91%D0%BE%D0%BB%D1%8C%D1%86%D0%BC%D0%B0%D0%BD%D0%B0)\n",
    "* [Автокодировщик](https://ru.wikipedia.org/wiki/%D0%90%D0%B2%D1%82%D0%BE%D0%BA%D0%BE%D0%B4%D0%B8%D1%80%D0%BE%D0%B2%D1%89%D0%B8%D0%BA)\n",
    "* [Скрытая марковская модель](https://ru.wikipedia.org/wiki/%D0%A1%D0%BA%D1%80%D1%8B%D1%82%D0%B0%D1%8F_%D0%BC%D0%B0%D1%80%D0%BA%D0%BE%D0%B2%D1%81%D0%BA%D0%B0%D1%8F_%D0%BC%D0%BE%D0%B4%D0%B5%D0%BB%D1%8C)\n",
    "* Модели, предсказывающие следующее слово в последовательности, например, [GPT-2](https://en.wikipedia.org/wiki/OpenAI#GPT-2)\n",
    "\n",
    "В последнее время GAN привлекли большое внимание благодаря впечатляющим результатам в генерации визуального контента. Остановимся на устройстве генеративно-состязательных сетей подробнее."
   ]
  },
  {
   "cell_type": "markdown",
   "metadata": {},
   "source": [
    "# Архитектура генеративно-состязательных нейросетей\n",
    "\n",
    "Генеративно-состязательная сеть, как мы уже поняли, – это не одна сеть, а две: генератор и дискриминатор. Роль **генератора** – сгенерировать на основе реальной выборки датасет, напоминающий реальные данные. **Дискриминатор** обучен оценивать вероятность того, что образец получен из реальных данных, а не предоставлен генератором. Две нейросети играют в кошки-мышки: генератор пытается обмануть дискриминатор, а дискриминатор старается лучше идентифицировать сгенерированные образцы.\n",
    "\n",
    "Чтобы понять, как работает обучение GAN, рассмотрим игрушечный пример с набором данных, состоящим из двумерных выборок $(x_1, x_2)$, с $x_1$ в интервале от $0$ до $2π$ и $x_2 = sin(x_1)$.\n",
    "\n",
    "![](https://files.realpython.com/media/fig_x1x2.f8a39d8ff58a.png)\n",
    "\n",
    "Общая структура GAN для генерации пар $(x̃_1, x̃_2)$, напоминающих точки набора данных, показана на следующем рисунке.\n",
    "\n",
    "![](https://files.realpython.com/media/fig_gan.4f0f744c7999.png)\n",
    "\n",
    "Генератор $G$ получает на вход пары случайных чисел ($z_1, z_2$), преобразуя их так, чтобы они напоминали примеры из реальной выборки. Структура нейронной сети $G$ может быть любой, например, [многослойный персептрон](https://ru.wikipedia.org/wiki/%D0%9C%D0%BD%D0%BE%D0%B3%D0%BE%D1%81%D0%BB%D0%BE%D0%B9%D0%BD%D1%8B%D0%B9_%D0%BF%D0%B5%D1%80%D1%86%D0%B5%D0%BF%D1%82%D1%80%D0%BE%D0%BD_%D0%A0%D1%83%D0%BC%D0%B5%D0%BB%D1%8C%D1%85%D0%B0%D1%80%D1%82%D0%B0) или [сверточная нейронная сеть](https://ru.wikipedia.org/wiki/%D0%A1%D0%B2%D1%91%D1%80%D1%82%D0%BE%D1%87%D0%BD%D0%B0%D1%8F_%D0%BD%D0%B5%D0%B9%D1%80%D0%BE%D0%BD%D0%BD%D0%B0%D1%8F_%D1%81%D0%B5%D1%82%D1%8C).\n",
    "\n",
    "На вход дискриминатора $D$ попеременно поступают образцы из обучающего набора данных и смоделированные образцы, предоставленные генератором $G$. Роль дискриминатора заключается в оценке вероятности того, что входные данные принадлежат реальному набору данных. То есть обучение выполняется таким образом, чтобы $D$ выдавал $1$, получая реальный образец, и $0$ для сгенерированного образца.\n",
    "\n",
    "Как и в случае с генератором, можно выбрать любую структуру нейронной сети $D$ с учетом размеров входных и выходных данных. В рассматриваемом примере вход является двумерным, а выходные данные – [скаляром](https://ru.wikipedia.org/wiki/%D0%A1%D0%BA%D0%B0%D0%BB%D1%8F%D1%80%D0%BD%D0%B0%D1%8F_%D0%B2%D0%B5%D0%BB%D0%B8%D1%87%D0%B8%D0%BD%D0%B0) в диапазоне от 0 до 1.\n",
    "\n",
    "Процесс обучения GAN заключается в [минимаксной игре](https://ru.wikipedia.org/wiki/%D0%9C%D0%B8%D0%BD%D0%B8%D0%BC%D0%B0%D0%BA%D1%81) двух игроков, в которой $D$ адаптирован для минимизации ошибки различия реального и сгенерированного образца, а $G$ адаптирован на максимизацию вероятности того, что $D$ допустит ошибку.\n",
    "\n",
    "На каждом этапе обучения происходит обновление параметров моделей $D$ и $G$. Чтобы обучить $D$, на каждой итерации мы помечаем выборку реальных образцов из обучающих данных единицами, а выборку сгенерированных образцов, созданных $G$ – нулями. Таким образом, для обновления параметров $D$, как показано на схеме, можно использовать обычный подход обучения с учителем.\n",
    "\n",
    "![](https://files.realpython.com/media/fig_train_discriminator.cd1a1e32764f.png)\n",
    "*Процесс обучения дискриминатора*\n",
    "\n",
    "Для каждой партии обучающих данных, содержащих размеченные реальные и сгенерированные образцы, мы обновляем набор параметров модели $D$, минимизируя функцию потерь. После того как параметры $D$ обновлены, мы обучаем $G$ генерировать более качественные образцы. Набор параметров $D$ «замораживается» на время обучения генератора.\n",
    "\n",
    "![](https://files.realpython.com/media/fig_train_generator.7196c4f382ba.png)\n",
    "\n",
    "Когда $G$ начинает генерировать образцы настолько хорошо, что $D$ «обманывается», выходная вероятность устремляется к единице – $D$ считает, что все образцы принадлежат к оригинальной выборке.\n",
    "\n",
    "Теперь, когда мы знаем, как работает GAN, мы готовы реализовать собственный вариант нейросети, используя **PyTorch**."
   ]
  },
  {
   "cell_type": "markdown",
   "metadata": {},
   "source": [
    "# Ваша первая генеративно-состязательная нейросеть\n",
    "\n",
    "В качестве первого эксперимента с генеративно-состязательными сетями реализуем описаный выше пример с гармонической функцией. Для работы с примером будем использовать популярную библиотеку PyTorch, которую можно установить с помощью [инструкции](https://pytorch.org/get-started/locally/). Если вы серьезно заинтересовались Data Science, возможно, вы уже использовали дистрибутив [Anaconda](https://www.anaconda.com/products/individual) и систему управления пакетами и средами [conda](https://docs.conda.io/projects/conda/en/latest/user-guide/getting-started.html). Заметим, что среда облегчает процесс установки.\n",
    "\n",
    "Если вы устанавливаете `pytorch` с помощью `conda`, вначале создайте окружение и активируйте его:\n",
    "\n",
    "```Bash\n",
    "$ conda create --name gan\n",
    "$ conda activate gan\n",
    "```\n",
    "\n",
    "Здесь создается окружение `conda` с именем `gan`. Внутри созданной среды можно установить необходимые пакеты:\n",
    "\n",
    "\n",
    "```Bash\n",
    "$ conda install -c pytorch pytorch=1.4.0\n",
    "$ conda install matplotlib jupyter\n",
    "```\n",
    "\n",
    "Поскольку PyTorch является активно развивающейся средой, API в новых версиях может измениться. Примеры кода проверены для версии 1.4.0.\n",
    "\n",
    "Для работы с графиками мы будем использовать matplotlib.\n",
    "\n",
    "Заметим также, что организация кода в виде [блокнотов Jupyter](https://proglib.io/p/jupyter) облегчает работу над проектами машинного обучения.\n",
    "\n",
    "При использовании Jupyter Notebook необходимо зарегистрировать окружение `conda gan`, чтобы было можно создавать блокноты, используя это окружение в качестве кернела. Для этого в активированной среде `gan` выполняем следующую команду:\n",
    "\n",
    "```Bash\n",
    "$ python -m ipykernel install --user --name gan\n",
    "```\n",
    "\n",
    "Начнём с импорта необходимых библиотек:"
   ]
  },
  {
   "cell_type": "code",
   "execution_count": 1,
   "metadata": {},
   "outputs": [],
   "source": [
    "# #Устанавливаем PyTorch см. https://pytorch.org/get-started/locally/#anaconda\n",
    "# !pip3 install torch torchvision torchaudio\n",
    "\n",
    "# #Отрисовка графиков, картинок\n",
    "# !pip install matplotlib"
   ]
  },
  {
   "cell_type": "code",
   "execution_count": 2,
   "metadata": {},
   "outputs": [],
   "source": [
    "import torch\n",
    "from torch import nn\n",
    "\n",
    "import math\n",
    "import matplotlib.pyplot as plt"
   ]
  },
  {
   "cell_type": "markdown",
   "metadata": {},
   "source": [
    "Здесь мы импортируем библиотеку PyTorch (`torch`). Из библиотеки отдельно импортируем компонент `nn` для более компактного обращения. Встроенная библиотека `math` нужна лишь для получения значения константы `pi`, а упомянутый выше инструмент `matplotlib` – для построения зависимостей.\n",
    "\n",
    "Хорошей практикой является временное закрепление генератора случайных чисел так, чтобы эксперимент можно было воспроизвести на другой машине. Чтобы сделать это в PyTorch, запустим следующий код:"
   ]
  },
  {
   "cell_type": "code",
   "execution_count": 3,
   "metadata": {},
   "outputs": [
    {
     "data": {
      "text/plain": [
       "<torch._C.Generator at 0x12bfeb8b2d0>"
      ]
     },
     "execution_count": 3,
     "metadata": {},
     "output_type": "execute_result"
    }
   ],
   "source": [
    "torch.manual_seed(42)"
   ]
  },
  {
   "cell_type": "markdown",
   "metadata": {},
   "source": [
    "Число 111 мы используем для инициализации генератора случайных чисел. Он нам понадобится для задания начальных весов нейронной сети. Несмотря на случайный характер эксперимента, его течение будет воспроизводимо.\n",
    "\n",
    "# Подготовка данных для обучения\n",
    "\n",
    "Обучающая выборка состоит из пар чисел $(x_1, x_2)$ – таких, что $x_2$ соответствует значению синуса $x_1$ для $x_1$ в интервале от $0$ до $2π$. Данные для обучения можно получить следующим образом:"
   ]
  },
  {
   "cell_type": "code",
   "execution_count": 4,
   "metadata": {},
   "outputs": [],
   "source": [
    "train_data_length = 1024\n",
    "train_data = torch.zeros((train_data_length, 2))\n",
    "train_data[:, 0] = 2 * math.pi * torch.rand(train_data_length)\n",
    "train_data[:, 1] = torch.sin(train_data[:, 0])\n",
    "train_labels = torch.zeros(train_data_length)\n",
    "train_set = [\n",
    "    (train_data[i], train_labels[i]) for i in range(train_data_length)]"
   ]
  },
  {
   "cell_type": "markdown",
   "metadata": {},
   "source": [
    "Здесь мы составляем набор данных для обучения, состоящий из 1024 пар $(x_1, x_2)$. Затем инициализируем нулями `train_data` – матрицу из 1024 строк и 2 столбцов.\n",
    "\n",
    "Первый столбец `train_data` заполняем случайными значениями в интервале от $0$ до $2π$. Вычисляем значения второго столбца, как синус от первого.\n",
    "\n",
    "Затем нам формально потребуется массив меток `train_labels`, который мы передаем загрузчику данных PyTorch. Поскольку GAN реализует метод обучения без учителя, метки могут быть любыми.\n",
    "\n",
    "Наконец, мы создаем из `train_data` и `train_labels` список кортежей `train_set`.\n",
    "\n",
    "Отобразим данные для обучения, нанеся на график каждую точку $(x_1, x_2)$:"
   ]
  },
  {
   "cell_type": "code",
   "execution_count": 5,
   "metadata": {},
   "outputs": [
    {
     "data": {
      "text/plain": [
       "[<matplotlib.lines.Line2D at 0x12b85535990>]"
      ]
     },
     "execution_count": 5,
     "metadata": {},
     "output_type": "execute_result"
    },
    {
     "data": {
      "image/png": "[encoded data removed]",
      "text/plain": [
       "<Figure size 640x480 with 1 Axes>"
      ]
     },
     "metadata": {},
     "output_type": "display_data"
    }
   ],
   "source": [
    "plt.plot(train_data[:, 0], train_data[:, 1], \".\")"
   ]
  },
  {
   "cell_type": "markdown",
   "metadata": {},
   "source": [
    "Вывод должен быть похож на следующий рисунок:\n",
    "\n",
    "![](https://files.realpython.com/media/fig_train_sin_mpl.2e194bac5580.png)\n",
    "\n",
    "Создадим загрузчик данных с именем `train_loader`, который будет перетасовывать данные из `train_set`, возвращая пакеты по 32 образца (`batch_size`), используемые для обучения нейросети:"
   ]
  },
  {
   "cell_type": "code",
   "execution_count": 6,
   "metadata": {},
   "outputs": [],
   "source": [
    "batch_size = 32\n",
    "train_loader = torch.utils.data.DataLoader(\n",
    "    train_set, batch_size=batch_size, shuffle=True)"
   ]
  },
  {
   "cell_type": "markdown",
   "metadata": {},
   "source": [
    "Данные подготовлены, теперь нужно создать нейронные сети дискриминатора и генератора GAN.\n",
    "\n",
    "# Реализация дискриминатора\n",
    "В PyTorch модели нейронной сети представлены классами, которые наследуются от класса `nn.Module`. Если вы плохо знакомы с ООП, для понимания происходящего будет достаточно статьи [«Введение в объектно-ориентированное программирование (ООП) на Python»](https://proglib.io/p/vvedenie-v-obektno-orientirovannoe-programmirovanie-oop-na-python-2020-07-23).\n",
    "\n",
    "Дискриминатор – это модель с двумерным входом и одномерным выходом. Он получает выборку из реальных данных или от генератора и предоставляет вероятность того, что выборка относится к реальным обучающим данным. Код ниже показывает, как создать класс дискриминатора:"
   ]
  },
  {
   "cell_type": "code",
   "execution_count": 7,
   "metadata": {},
   "outputs": [],
   "source": [
    "class Discriminator(nn.Module):\n",
    "    def __init__(self):\n",
    "        super().__init__()\n",
    "        self.model = nn.Sequential(\n",
    "            nn.Linear(2, 256),\n",
    "            nn.ReLU(),\n",
    "            nn.Dropout(0.3),\n",
    "            nn.Linear(256, 128),\n",
    "            nn.ReLU(),\n",
    "            nn.Dropout(0.3),\n",
    "            nn.Linear(128, 64),\n",
    "            nn.ReLU(),\n",
    "            nn.Dropout(0.3),\n",
    "            nn.Linear(64, 1),\n",
    "            nn.Sigmoid())\n",
    "\n",
    "    def forward(self, x):\n",
    "        output = self.model(x)\n",
    "        return output"
   ]
  },
  {
   "cell_type": "markdown",
   "metadata": {},
   "source": [
    "Для построения модели нейронной сети используется стандартный метод классов `__init__()` . Внутри этого метода мы сначала вызываем `super().__init__()` для запуска соответствующего метода `__init__()` наследуемого класса `nn.Module`. В качестве архитектуры нейросети используется [многослойный перцептрон](https://ru.wikipedia.org/wiki/%D0%9C%D0%BD%D0%BE%D0%B3%D0%BE%D1%81%D0%BB%D0%BE%D0%B9%D0%BD%D1%8B%D0%B9_%D0%BF%D0%B5%D1%80%D1%86%D0%B5%D0%BF%D1%82%D1%80%D0%BE%D0%BD_%D0%A0%D1%83%D0%BC%D0%B5%D0%BB%D1%8C%D1%85%D0%B0%D1%80%D1%82%D0%B0). Его структура послойно задается с помощью `nn.Sequential()`. Модель имеет следующие характеристики:\n",
    "\n",
    "- двумерный вход;\n",
    "- первый скрытый слой состоит из 256 нейронов и имеет [функцию активации](https://ru.wikipedia.org/wiki/%D0%A4%D1%83%D0%BD%D0%BA%D1%86%D0%B8%D1%8F_%D0%B0%D0%BA%D1%82%D0%B8%D0%B2%D0%B0%D1%86%D0%B8%D0%B8) [ReLU](https://neurohive.io/ru/osnovy-data-science/activation-functions/);\n",
    "- в последующих слоях происходит уменьшение числа нейронов до 128 и 64. Вывод имеет сигмоидальную функцию активации, характерную для представления вероятности (`Sigmoid`);\n",
    "- чтобы избежать переобучения, после первого, второго и третьего скрытых слоев, делается дропаут части нейронов (`Dropout`).\n",
    "\n",
    "Для удобства вывода в классе также создан метод `forward()`. Здесь `x` соответствует входу модели. В этой реализации выходные данные получаются путем подачи входных данных `x` в определенную нами модель без предобработки.\n",
    "\n",
    "После объявления класса дискриминатора создаем его экземпляр:"
   ]
  },
  {
   "cell_type": "code",
   "execution_count": 8,
   "metadata": {},
   "outputs": [],
   "source": [
    "discriminator = Discriminator()"
   ]
  },
  {
   "cell_type": "markdown",
   "metadata": {},
   "source": [
    "# Реализация генератора\n",
    "\n",
    "В генеративно-состязательных сетях генератор – это модель, которая берет в качестве входных данных некоторую выборку из [пространства скрытых переменных](https://ru.wikipedia.org/wiki/%D0%A1%D0%BA%D1%80%D1%8B%D1%82%D0%B0%D1%8F_%D0%BF%D0%B5%D1%80%D0%B5%D0%BC%D0%B5%D0%BD%D0%BD%D0%B0%D1%8F), напоминающих данные в обучающем наборе. В нашем случае это модель с двумерным вводом, которая будет получать случайные точки ($z_1, z_2$), и двумерный вывод, выдающий точки ($x̃_1, x̃_2$), похожие на точки из обучающих данных.\n",
    "\n",
    "Реализация похожа на то, что мы написали для дискриминатора. Сначала нужно создать класс `Generator`, наследуемый от `nn.Module`, затем определить архитектуру нейронной сети, и, наконец, создать экземпляр объекта `Generator`:"
   ]
  },
  {
   "cell_type": "code",
   "execution_count": 9,
   "metadata": {},
   "outputs": [],
   "source": [
    "class Generator(nn.Module):\n",
    "    def __init__(self):\n",
    "        super().__init__()\n",
    "        self.model = nn.Sequential(\n",
    "            nn.Linear(2, 16),\n",
    "            nn.ReLU(),\n",
    "            nn.Linear(16, 32),\n",
    "            nn.ReLU(),\n",
    "            nn.Linear(32, 2))\n",
    "\n",
    "    def forward(self, x):\n",
    "        output = self.model(x)\n",
    "        return output\n",
    "\n",
    "generator = Generator()"
   ]
  },
  {
   "cell_type": "markdown",
   "metadata": {},
   "source": [
    "Генератор включает два скрытых слоя с 16 и 32 нейронами с функцией активацией ReLU, а на выходе слой с двумя нейронами с линейной функцией активации. Таким образом, выходные данные будут состоять из двух элементов, имеющих значение в диапазоне от $-\\infty$ до $+\\infty$, которое будет представлять $(x̃_1, x̃_2)$. То есть исходно мы не накладываем на генератор никакие ограничения – он должен «всему научиться сам». \n",
    "\n",
    "Теперь, когда мы определили модели для дискриминатора и генератора, мы готовы начать обучение.\n",
    "\n",
    "# Обучение моделей\n",
    "Перед обучением моделей необходимо настроить параметры, которые будут использоваться в процессе обучения:"
   ]
  },
  {
   "cell_type": "code",
   "execution_count": 10,
   "metadata": {},
   "outputs": [],
   "source": [
    "lr = 0.001\n",
    "num_epochs = 300\n",
    "loss_function = nn.BCELoss()"
   ]
  },
  {
   "cell_type": "markdown",
   "metadata": {},
   "source": [
    "Что здесь происходит:\n",
    "1. Задаем скорость обучения `lr` (learning rate), которую мы будем использовать для адаптации весов сети.\n",
    "2. Задаем количество эпох `num_epochs`, которое определяет, сколько повторений процесса обучения будет выполнено с использованием всего датасета.\n",
    "3. Переменной `loss_function` мы назначаем функцию [логистической функции потерь](https://ru.wikipedia.org/wiki/%D0%9F%D0%B5%D1%80%D0%B5%D0%BA%D1%80%D1%91%D1%81%D1%82%D0%BD%D0%B0%D1%8F_%D1%8D%D0%BD%D1%82%D1%80%D0%BE%D0%BF%D0%B8%D1%8F) (бинарной перекрестной энтропии) `BCELoss()`. Это та функция потерь, которую мы будем использовать для обучения моделей. Она подходит как для обучения дискриминатора (его задача сводится к бинарной классификации), так и для генератора, так как он подает свой вывод на вход дискриминатора.\n",
    "\n",
    "Правила обновления весов (обучения модели) в PyTorch реализованы в модуле `torch.optim`. Мы будем использовать  для обучения моделей дискриминатора и генератора алгоритм стохастического градиентного спуска [Аdam](https://ru.wikipedia.org/wiki/%D0%A1%D1%82%D0%BE%D1%85%D0%B0%D1%81%D1%82%D0%B8%D1%87%D0%B5%D1%81%D0%BA%D0%B8%D0%B9_%D0%B3%D1%80%D0%B0%D0%B4%D0%B8%D0%B5%D0%BD%D1%82%D0%BD%D1%8B%D0%B9_%D1%81%D0%BF%D1%83%D1%81%D0%BA#Adam). Чтобы создать оптимизаторы с помощью `torch.optim`, запустим следующий код:"
   ]
  },
  {
   "cell_type": "code",
   "execution_count": 11,
   "metadata": {},
   "outputs": [],
   "source": [
    "optimizer_discriminator = torch.optim.Adam(discriminator.parameters(), lr=lr)\n",
    "optimizer_generator = torch.optim.Adam(generator.parameters(), lr=lr)"
   ]
  },
  {
   "cell_type": "markdown",
   "metadata": {},
   "source": [
    "Наконец, необходимо реализовать обучающий цикл, в котором образцы обучающей выборки подаются на вход модели, а их веса обновляются, минимизируя функцию потерь:"
   ]
  },
  {
   "cell_type": "code",
   "execution_count": 12,
   "metadata": {},
   "outputs": [
    {
     "name": "stdout",
     "output_type": "stream",
     "text": [
      "Epoch: 0 Loss D.: 0.08785366266965866\n",
      "Epoch: 0 Loss G.: 2.6136229038238525\n",
      "Epoch: 10 Loss D.: 0.5747854709625244\n",
      "Epoch: 10 Loss G.: 1.036826729774475\n",
      "Epoch: 20 Loss D.: 0.5794674158096313\n",
      "Epoch: 20 Loss G.: 0.9417163133621216\n",
      "Epoch: 30 Loss D.: 0.6963526010513306\n",
      "Epoch: 30 Loss G.: 0.7825292944908142\n",
      "Epoch: 40 Loss D.: 0.69837886095047\n",
      "Epoch: 40 Loss G.: 0.8331990242004395\n",
      "Epoch: 50 Loss D.: 0.6715562343597412\n",
      "Epoch: 50 Loss G.: 0.7541272640228271\n",
      "Epoch: 60 Loss D.: 0.7141678929328918\n",
      "Epoch: 60 Loss G.: 0.6897124648094177\n",
      "Epoch: 70 Loss D.: 0.6830118298530579\n",
      "Epoch: 70 Loss G.: 0.708210289478302\n",
      "Epoch: 80 Loss D.: 0.6895216107368469\n",
      "Epoch: 80 Loss G.: 0.6966506838798523\n",
      "Epoch: 90 Loss D.: 0.6867179870605469\n",
      "Epoch: 90 Loss G.: 0.7110005021095276\n",
      "Epoch: 100 Loss D.: 0.6971708536148071\n",
      "Epoch: 100 Loss G.: 0.6970383524894714\n",
      "Epoch: 110 Loss D.: 0.673784077167511\n",
      "Epoch: 110 Loss G.: 0.707104504108429\n",
      "Epoch: 120 Loss D.: 0.7123987078666687\n",
      "Epoch: 120 Loss G.: 0.6924240589141846\n",
      "Epoch: 130 Loss D.: 0.6957147121429443\n",
      "Epoch: 130 Loss G.: 0.6818597912788391\n",
      "Epoch: 140 Loss D.: 0.688559889793396\n",
      "Epoch: 140 Loss G.: 0.6944040060043335\n",
      "Epoch: 150 Loss D.: 0.6770410537719727\n",
      "Epoch: 150 Loss G.: 0.6750349998474121\n",
      "Epoch: 160 Loss D.: 0.6888705492019653\n",
      "Epoch: 160 Loss G.: 0.753004252910614\n",
      "Epoch: 170 Loss D.: 0.7289248108863831\n",
      "Epoch: 170 Loss G.: 0.6811765432357788\n",
      "Epoch: 180 Loss D.: 0.7055968642234802\n",
      "Epoch: 180 Loss G.: 0.7205783724784851\n",
      "Epoch: 190 Loss D.: 0.6733368635177612\n",
      "Epoch: 190 Loss G.: 0.7238563895225525\n",
      "Epoch: 200 Loss D.: 0.6792982220649719\n",
      "Epoch: 200 Loss G.: 0.691139817237854\n",
      "Epoch: 210 Loss D.: 0.6739696860313416\n",
      "Epoch: 210 Loss G.: 0.7578895092010498\n",
      "Epoch: 220 Loss D.: 0.6934987306594849\n",
      "Epoch: 220 Loss G.: 0.745580792427063\n",
      "Epoch: 230 Loss D.: 0.6563394069671631\n",
      "Epoch: 230 Loss G.: 0.7287828326225281\n",
      "Epoch: 240 Loss D.: 0.6947003602981567\n",
      "Epoch: 240 Loss G.: 0.748262345790863\n",
      "Epoch: 250 Loss D.: 0.680661141872406\n",
      "Epoch: 250 Loss G.: 0.6817671060562134\n",
      "Epoch: 260 Loss D.: 0.646954357624054\n",
      "Epoch: 260 Loss G.: 0.7303096652030945\n",
      "Epoch: 270 Loss D.: 0.6851681470870972\n",
      "Epoch: 270 Loss G.: 0.7375231981277466\n",
      "Epoch: 280 Loss D.: 0.712947428226471\n",
      "Epoch: 280 Loss G.: 0.7260047793388367\n",
      "Epoch: 290 Loss D.: 0.6719328165054321\n",
      "Epoch: 290 Loss G.: 0.6788306832313538\n"
     ]
    }
   ],
   "source": [
    "for epoch in range(num_epochs):\n",
    "    for n, (real_samples, _) in enumerate(train_loader):\n",
    "        # Данные для обучения дискриминатора\n",
    "        real_samples_labels = torch.ones((batch_size, 1))\n",
    "        latent_space_samples = torch.randn((batch_size, 2))\n",
    "        generated_samples = generator(latent_space_samples)\n",
    "        generated_samples_labels = torch.zeros((batch_size, 1))\n",
    "        all_samples = torch.cat((real_samples, generated_samples))\n",
    "        all_samples_labels = torch.cat(\n",
    "            (real_samples_labels, generated_samples_labels))\n",
    "\n",
    "        # Обучение дискриминатора\n",
    "        discriminator.zero_grad()\n",
    "        output_discriminator = discriminator(all_samples)\n",
    "        loss_discriminator = loss_function(\n",
    "            output_discriminator, all_samples_labels)\n",
    "        loss_discriminator.backward()\n",
    "        optimizer_discriminator.step()\n",
    "\n",
    "        # Данные для обучения генератора\n",
    "        latent_space_samples = torch.randn((batch_size, 2))\n",
    "\n",
    "        # Обучение генератора\n",
    "        generator.zero_grad()\n",
    "        generated_samples = generator(latent_space_samples)\n",
    "        output_discriminator_generated = discriminator(generated_samples)\n",
    "        loss_generator = loss_function(\n",
    "            output_discriminator_generated, real_samples_labels)\n",
    "        loss_generator.backward()\n",
    "        optimizer_generator.step()\n",
    "\n",
    "        # Выводим значения функций потерь\n",
    "        if epoch % 10 == 0 and n == batch_size - 1:\n",
    "            print(f\"Epoch: {epoch} Loss D.: {loss_discriminator}\")\n",
    "            print(f\"Epoch: {epoch} Loss G.: {loss_generator}\")"
   ]
  },
  {
   "cell_type": "markdown",
   "metadata": {},
   "source": [
    "Здесь на каждой итерации обучения мы обновляем параметры дискриминатора и генератора. Как это обычно делается для нейронных сетей, учебный процесс состоит из двух вложенных циклов: внешний – для эпох обучения, а внутренний – для пакетов внутри каждой эпохи. Во внутреннем цикле всё начинается с подготовки данных для обучения дискриминатора:\n",
    "\n",
    "- Получаем реальные образцы текущей партии из загрузчика данных и назначаем их переменной `real_samples`. Обратите внимание, что первое измерение в размерности массива имеет количество элементов, равное `batch_size`. Это стандартный способ организации данных в PyTorch, где каждая строка тензора представляет один образец из пакета.\n",
    "* Используем `torch.ones()` для создания меток со значением 1 для реальных образцов и назначаем метки переменной `real_samples_labels`.\n",
    "* Генерируем образцы, сохраняя случайные данные в `latent_space_samples`, которые затем передаем в генератор для получения `generate_samples`. Для меток сгенерированных образцов мы используем нули `torch.zeros()`, которые сохраняем в `generate_samples_labels`.\n",
    "* Остается объединить реальные и сгенерированные образцы и метки и сохранить соответственно в `all_samples` и `all_samples_labels`.\n",
    "\n",
    "В следующем блоке мы обучаем дискриминатор:\n",
    "\n",
    "- В PyTorch важно на каждом шаге обучения очищать значения градиентов. Мы делаем это с помощью метода `zero_grad()`.\n",
    "- Вычисляем выходные данные дискриминатора, используя обучающие данные `all_samples`.\n",
    "- Вычисляем значение функции потерь, используя выходные данные в `output_discriminator` и метки `all_samples_labels`.\n",
    "- Вычисляем градиенты для обновления весов с помощью `loss_discriminator.backward()`.\n",
    "- Находим обновленные веса дискриминатора, вызывая `optimizer_discriminator.step()`.\n",
    "- Подготавливаем данные для обучения генератора. Рандомизированные данные хранятся в `latent_space_samples`, количеством строк равно `batch_size`. Используем два столбца, чтобы данные соответствовали двумерным данным на входе генератора.\n",
    "\n",
    "Тренируем генератор:\n",
    "- Очищаем градиенты с помощью метода `zero_grad()`.\n",
    "- Передаем генератору `latent_space_samples` и сохраняем его выходные данные в `generate_samples`.\n",
    "- Передаем выходные данные генератора в дискриминатор и сохраняем его выходные данные в `output_discriminator_generated`, который будет использоваться в качестве выходных данных всей модели.\n",
    "- Вычисляем функцию потерь, используя выходные данные системы классификации, сохраненные в `output_discriminator_generated` и метки `real_samples_labels`, равные 1.\n",
    "- Рассчитываем градиенты и обновляем веса генератора. Помните, что когда мы обучаем генератор, мы сохраняем веса дискриминатора в замороженном состоянии. \n",
    "\n",
    "Наконец, в последних строчках цикла происходит вывод значения функций потерь дискриминатора и генератора в конце каждой десятой эпохи.\n",
    "\n",
    "После запуска цикла обучение модели завершится через несколько минут.\n",
    "\n",
    "# Проверка образцов, сгенерированных GAN\n",
    "\n",
    "Генеративно-состязательные сети предназначены для генерации данных. Таким образом, после того как процесс обучения завершен, мы можем вызвать генератор для получения новых данных:"
   ]
  },
  {
   "cell_type": "code",
   "execution_count": 13,
   "metadata": {},
   "outputs": [],
   "source": [
    "latent_space_samples = torch.randn(100, 2)\n",
    "generated_samples = generator(latent_space_samples)"
   ]
  },
  {
   "cell_type": "markdown",
   "metadata": {},
   "source": [
    "Построим сгенерированные данные и проверим, насколько они похожи на обучающие данные. Перед построением графика для сгенерированных образцов необходимо применить `.detach()`, чтобы получить необходимые данные из вычислительного графа PyTorch:"
   ]
  },
  {
   "cell_type": "code",
   "execution_count": 14,
   "metadata": {},
   "outputs": [
    {
     "data": {
      "text/plain": [
       "[<matplotlib.lines.Line2D at 0x12b8a4c7e90>]"
      ]
     },
     "execution_count": 14,
     "metadata": {},
     "output_type": "execute_result"
    },
    {
     "data": {
      "image/png": "[encoded data removed]",
      "text/plain": [
       "<Figure size 640x480 with 1 Axes>"
      ]
     },
     "metadata": {},
     "output_type": "display_data"
    }
   ],
   "source": [
    "generated_samples = generated_samples.detach()\n",
    "plt.plot(generated_samples[:, 0], generated_samples[:, 1], \".\")"
   ]
  },
  {
   "cell_type": "markdown",
   "metadata": {},
   "source": [
    "Распределение сгенерированных данных очень напоминает реальные данные – исходный синус. Можно также визуализировать процесс обучения:\n",
    "\n",
    "![](https://files.realpython.com/media/fig_gan_x1x2.69b1d6021da8.gif)\n",
    "\n",
    "В начале процесса обучения распределение сгенерированных данных сильно отличается от реальных данных. Но по мере обучения генератор изучает реальное распределение данных, как бы подстраиваясь под него.\n",
    "\n",
    "Теперь, когда мы реализовали первую модель генеративно-состязательной сети, мы можем перейти к более практичному примеру с генерацией изображений.\n",
    "\n",
    "# Генератор рукописных цифр с GAN\n",
    "\n",
    "В следующем примере мы воспользуемся GAN для генерации изображений рукописных цифр. Для этого мы обучим модели, используя [набор данных MNIST](https://ru.wikipedia.org/wiki/MNIST_(%D0%B1%D0%B0%D0%B7%D0%B0_%D0%B4%D0%B0%D0%BD%D0%BD%D1%8B%D1%85)), состоящий из рукописных цифр. Этот стандартный набор данных включен в пакет `torchvision`.\n",
    "\n",
    "Для начала в активированной среде `gan` необходимо установить `torchvision`:\n",
    "\n",
    "```bash\n",
    "$ conda install -c pytorch torchvision=0.5.0\n",
    "```\n",
    "\n",
    "Опять же, здесь мы указываем конкретную версию `torchvision` так же, как мы это делали с pytorch, чтобы обеспечить выполнение примеров кода. \n",
    "\n",
    "Начинаем с импорта необходимых библиотек:"
   ]
  },
  {
   "cell_type": "code",
   "execution_count": 15,
   "metadata": {},
   "outputs": [
    {
     "data": {
      "text/plain": [
       "<torch._C.Generator at 0x12bfeb8b2d0>"
      ]
     },
     "execution_count": 15,
     "metadata": {},
     "output_type": "execute_result"
    }
   ],
   "source": [
    "import torchvision\n",
    "import torchvision.transforms as transforms\n",
    "\n",
    "torch.manual_seed(111)"
   ]
  },
  {
   "cell_type": "markdown",
   "metadata": {},
   "source": [
    "Помимо библиотек, которые мы импортировали ранее, нам понадобится `torchvision` и `torchvision.transforms` для преобразования информации, хранящейся в файлах изображений."
   ]
  },
  {
   "cell_type": "markdown",
   "metadata": {},
   "source": [
    "Поскольку в этом примере обучающий набор включает изображения, модели будут сложнее, обучение будет происходить существенно дольше. При обучении на центральном процессоре ([CPU](https://ru.wikipedia.org/wiki/%D0%A6%D0%B5%D0%BD%D1%82%D1%80%D0%B0%D0%BB%D1%8C%D0%BD%D1%8B%D0%B9_%D0%BF%D1%80%D0%BE%D1%86%D0%B5%D1%81%D1%81%D0%BE%D1%80)) на одну эпоху будет уходить порядка двух минут. Для получения приемлемого результата понадобится порядка 50 эпох, поэтому общее время обучения при использовании процессора составляет около 100 минут.\n",
    "\n",
    "Чтобы сократить время обучения, можно использовать графический процессор ([GPU](https://ru.wikipedia.org/wiki/%D0%93%D1%80%D0%B0%D1%84%D0%B8%D1%87%D0%B5%D1%81%D0%BA%D0%B8%D0%B9_%D0%BF%D1%80%D0%BE%D1%86%D0%B5%D1%81%D1%81%D0%BE%D1%80)).\n",
    "\n",
    "Чтобы код работал независимо от характеристик компьютера, создадим объект `device`, который будет указывать либо на центральный процессор, либо (при наличии) на графический процессор:"
   ]
  },
  {
   "cell_type": "code",
   "execution_count": 16,
   "metadata": {},
   "outputs": [],
   "source": [
    "device = \"\"\n",
    "if torch.cuda.is_available():\n",
    "    device = torch.device(\"cuda\")\n",
    "else:\n",
    "    device = torch.device(\"cpu\")"
   ]
  },
  {
   "cell_type": "markdown",
   "metadata": {},
   "source": [
    "Окружение настроено, подготовим датасет для обучения.\n",
    "\n",
    "# Подготовка датасета MNIST\n",
    "Набор данных MNIST состоит из изображений написанных от руки цифр от 0 до 9. Изображения выполнены в градациях серого и имеют размер 28 × 28 пикселей. Чтобы использовать их с PyTorch, понадобится выполнить некоторые преобразования. Для этого определим функцию `transform`, используемую при загрузке данных:"
   ]
  },
  {
   "cell_type": "code",
   "execution_count": 17,
   "metadata": {},
   "outputs": [],
   "source": [
    "transform = transforms.Compose(\n",
    "    [transforms.ToTensor(), transforms.Normalize((0.5,), (0.5,))])"
   ]
  },
  {
   "cell_type": "markdown",
   "metadata": {},
   "source": [
    "Функция состоит из двух частей:\n",
    "\n",
    "1. `transforms.ToTensor()` преобразует данные в тензор PyTorch.\n",
    "2. `transforms.Normalize()` преобразует диапазон тензорных коэффициентов.\n",
    "\n",
    "Исходные коэффициенты, заданные функцией `transforms.ToTensor()`, находятся в диапазоне от 0 до 1. Поскольку изображения имеют черный фон, большинство коэффициентов равны 0.\n",
    "\n",
    "---\n",
    "\n",
    "**Технические детали**. Аргументы `transforms.Normalize()` представляют собой это два кортежа `(M₁, ..., Mₙ)` и `(S₁, ..., Sₙ)`, где `n` соответствует количеству каналов в изображении. Картинки в градациях серого, как в наборе данных MNIST, имеют лишь один канал. Для каждого i-го канала изображения `transforms.Normalize()` вычитает `Mᵢ` из коэффициентов и делит результат на `Sᵢ`.\n",
    "\n",
    "---\n",
    "\n",
    "Функция `transforms.Normalize()` изменяет диапазон коэффициентов на $[-1, 1]$, вычитая 0.5 из исходных коэффициентов и деля результат на 0.5. Преобразование сокращает количество элементов входных выборок, равных 0. Это помогает в обучении моделей.\n",
    "\n",
    "Теперь можно загрузить обучающие данные, вызвав `torchvision.datasets.MNIST`:"
   ]
  },
  {
   "cell_type": "code",
   "execution_count": 18,
   "metadata": {},
   "outputs": [],
   "source": [
    "train_set = torchvision.datasets.MNIST(\n",
    "    root=\".\", train=True, download=True, transform=transform)"
   ]
  },
  {
   "cell_type": "markdown",
   "metadata": {},
   "source": [
    "Аргумент `download = True` гарантирует, что при первом запуске кода набор данных MNIST будет загружен и сохранен в текущем каталоге, как указано в аргументе `root`.\n",
    "\n",
    "Мы создали `train_set`, так что можно создать загрузчик данных, как делали это раньше:"
   ]
  },
  {
   "cell_type": "code",
   "execution_count": 19,
   "metadata": {},
   "outputs": [],
   "source": [
    "batch_size = 32\n",
    "train_loader = torch.utils.data.DataLoader(\n",
    "    train_set, batch_size=batch_size, shuffle=True)"
   ]
  },
  {
   "cell_type": "markdown",
   "metadata": {},
   "source": [
    "Для избирательного построения данных воспользуемся matplotlib. В качестве палитры  хорошо подходит `cmap = gray_r`. Цифры будут изображаться черным цветом на белом фоне:"
   ]
  },
  {
   "cell_type": "code",
   "execution_count": 20,
   "metadata": {},
   "outputs": [
    {
     "data": {
      "image/png": "[encoded data removed]",
      "text/plain": [
       "<Figure size 640x480 with 16 Axes>"
      ]
     },
     "metadata": {},
     "output_type": "display_data"
    }
   ],
   "source": [
    "real_samples, mnist_labels = next(iter(train_loader))\n",
    "for i in range(16):\n",
    "    ax = plt.subplot(4, 4, i + 1)\n",
    "    plt.imshow(real_samples[i].reshape(28, 28), cmap=\"gray_r\")\n",
    "    plt.xticks([])\n",
    "    plt.yticks([])"
   ]
  },
  {
   "cell_type": "markdown",
   "metadata": {},
   "source": [
    "Вывод должен быть примерно таким:\n",
    "\n",
    "![](https://files.realpython.com/media/fig_train_mnist_mpl.ddcdc8188b90.png)\n",
    "\n",
    "Как видите, в датасете есть цифры с разными почерками. По мере того как GAN изучает распределение данных, она также генерирует цифры с разными стилями рукописного ввода.\n",
    "\n",
    "Мы подготовили обучающие данные, можно реализовать модели дискриминатора и генератора.\n",
    "\n",
    "# Реализация дискриминатора и генератора\n",
    "\n",
    "В рассматриваемом случае дискриминатором является нейронная сеть многослойного перцептрона, которая принимает изображение размером 28 × 28 пикселей и находит вероятность того, что изображение принадлежит реальным обучающим данным.\n",
    "\n",
    "Модель можно определить с помощью следующего кода:"
   ]
  },
  {
   "cell_type": "code",
   "execution_count": 21,
   "metadata": {},
   "outputs": [],
   "source": [
    "class Discriminator(nn.Module):\n",
    "    def __init__(self):\n",
    "        super().__init__()\n",
    "        self.model = nn.Sequential(\n",
    "            nn.Linear(784, 1024),\n",
    "            nn.ReLU(),\n",
    "            nn.Dropout(0.3),\n",
    "            nn.Linear(1024, 512),\n",
    "            nn.ReLU(),\n",
    "            nn.Dropout(0.3),\n",
    "            nn.Linear(512, 256),\n",
    "            nn.ReLU(),\n",
    "            nn.Dropout(0.3),\n",
    "            nn.Linear(256, 1),\n",
    "            nn.Sigmoid(),\n",
    "        )\n",
    "\n",
    "    def forward(self, x):\n",
    "        x = x.view(x.size(0), 784)\n",
    "        output = self.model(x)\n",
    "        return output"
   ]
  },
  {
   "cell_type": "markdown",
   "metadata": {},
   "source": [
    "Чтобы ввести коэффициенты изображения в нейронную сеть перцептрона, необходимо их векторизовать так, чтобы нейронная сеть получала вектор, состоящий из 784 коэффициентов (28 × 28 = 784).\n",
    "\n",
    "Векторизация происходит в первой строке метода `forward()` – вызов `x.view()` преобразует форму входного тензора. Исходная форма тензора $x$ – `32 × 1 × 28 × 28`, где 32 – размер партии. После преобразования форма $x$ становится равной `32 × 784`, причем каждая строка представляет коэффициенты изображения обучающего набора.\n",
    "\n",
    "Чтобы запустить модель дискриминатора с использованием графического процессора, нужно создать его экземпляр и связать с объектом устройства с помощью метода `.to()`:"
   ]
  },
  {
   "cell_type": "code",
   "execution_count": 22,
   "metadata": {},
   "outputs": [],
   "source": [
    "discriminator = Discriminator().to(device=device)"
   ]
  },
  {
   "cell_type": "markdown",
   "metadata": {},
   "source": [
    "Генератор будет создавать более сложные данные, чем в предыдущем примере. Поэтому необходимо увеличить размеры входных данных, используемых для инициализации. Здесь мы используем 100-мерный вход и выход с 784 коэффициентами. Результат организуется в виде тензора 28 × 28, представляющего изображение."
   ]
  },
  {
   "cell_type": "code",
   "execution_count": 23,
   "metadata": {},
   "outputs": [],
   "source": [
    "class Generator(nn.Module):\n",
    "    def __init__(self):\n",
    "        super().__init__()\n",
    "        self.model = nn.Sequential(\n",
    "            nn.Linear(100, 256),\n",
    "            nn.ReLU(),\n",
    "            nn.Linear(256, 512),\n",
    "            nn.ReLU(),\n",
    "            nn.Linear(512, 1024),\n",
    "            nn.ReLU(),\n",
    "            nn.Linear(1024, 784),\n",
    "            nn.Tanh(),\n",
    "        )\n",
    "\n",
    "    def forward(self, x):\n",
    "        output = self.model(x)\n",
    "        output = output.view(x.size(0), 1, 28, 28)\n",
    "        return output\n",
    "\n",
    "generator = Generator().to(device=device)"
   ]
  },
  {
   "cell_type": "markdown",
   "metadata": {},
   "source": [
    "Выходные коэффициенты должны находиться в интервале от -1 до 1. Поэтому на выходе генератора мы используем гиперболическую функцию активации `Tanh()`. В последней строке мы создаем экземпляр генератора и связываем его с объектом устройства.\n",
    "\n",
    "Осталось лишь обучить модели.\n",
    "\n",
    "# Обучение моделей\n",
    "Для обучения моделей нужно определить параметры обучения и оптимизаторы:"
   ]
  },
  {
   "cell_type": "code",
   "execution_count": 24,
   "metadata": {},
   "outputs": [],
   "source": [
    "lr = 0.0001\n",
    "num_epochs = 100\n",
    "loss_function = nn.BCELoss()\n",
    "\n",
    "optimizer_discriminator = torch.optim.Adam(discriminator.parameters(), lr=lr)\n",
    "optimizer_generator = torch.optim.Adam(generator.parameters(), lr=lr)"
   ]
  },
  {
   "cell_type": "markdown",
   "metadata": {},
   "source": [
    "Чтобы получить лучший результат, мы уменьшаем скорость обучения по сравнению с предыдущим примером. Чтобы сократить время обучения, устанавливаем количество эпох равным 50.\n",
    "\n",
    "Цикл обучения похож на тот, что мы использовали в предыдущем примере:"
   ]
  },
  {
   "cell_type": "code",
   "execution_count": 25,
   "metadata": {},
   "outputs": [
    {
     "name": "stdout",
     "output_type": "stream",
     "text": [
      "Epoch: 0 Loss D.: 0.5692477226257324\n",
      "Epoch: 0 Loss G.: 0.47790801525115967\n",
      "Epoch: 1 Loss D.: 0.011855424381792545\n",
      "Epoch: 1 Loss G.: 4.958003997802734\n",
      "Epoch: 2 Loss D.: 0.0036085406318306923\n",
      "Epoch: 2 Loss G.: 5.8993730545043945\n",
      "Epoch: 3 Loss D.: 0.014049550518393517\n",
      "Epoch: 3 Loss G.: 6.643637180328369\n",
      "Epoch: 4 Loss D.: 0.1729864478111267\n",
      "Epoch: 4 Loss G.: 3.9409842491149902\n",
      "Epoch: 5 Loss D.: 0.10103099048137665\n",
      "Epoch: 5 Loss G.: 3.1798291206359863\n",
      "Epoch: 6 Loss D.: 0.14419662952423096\n",
      "Epoch: 6 Loss G.: 3.08797550201416\n",
      "Epoch: 7 Loss D.: 0.2126060277223587\n",
      "Epoch: 7 Loss G.: 3.108367919921875\n",
      "Epoch: 8 Loss D.: 0.1582808792591095\n",
      "Epoch: 8 Loss G.: 2.447600841522217\n",
      "Epoch: 9 Loss D.: 0.3753584027290344\n",
      "Epoch: 9 Loss G.: 2.061525583267212\n",
      "Epoch: 10 Loss D.: 0.4327578544616699\n",
      "Epoch: 10 Loss G.: 2.1010446548461914\n",
      "Epoch: 11 Loss D.: 0.44830068945884705\n",
      "Epoch: 11 Loss G.: 1.7745918035507202\n",
      "Epoch: 12 Loss D.: 0.30561214685440063\n",
      "Epoch: 12 Loss G.: 2.125115156173706\n",
      "Epoch: 13 Loss D.: 0.3927542567253113\n",
      "Epoch: 13 Loss G.: 1.6792352199554443\n",
      "Epoch: 14 Loss D.: 0.3837965428829193\n",
      "Epoch: 14 Loss G.: 1.5864313840866089\n",
      "Epoch: 15 Loss D.: 0.29199907183647156\n",
      "Epoch: 15 Loss G.: 1.6393887996673584\n",
      "Epoch: 16 Loss D.: 0.4140332043170929\n",
      "Epoch: 16 Loss G.: 1.6034334897994995\n",
      "Epoch: 17 Loss D.: 0.4498777389526367\n",
      "Epoch: 17 Loss G.: 1.530073881149292\n",
      "Epoch: 18 Loss D.: 0.475737065076828\n",
      "Epoch: 18 Loss G.: 1.4893620014190674\n",
      "Epoch: 19 Loss D.: 0.446067750453949\n",
      "Epoch: 19 Loss G.: 1.3946952819824219\n",
      "Epoch: 20 Loss D.: 0.34884417057037354\n",
      "Epoch: 20 Loss G.: 1.2817867994308472\n",
      "Epoch: 21 Loss D.: 0.5332068800926208\n",
      "Epoch: 21 Loss G.: 1.511526346206665\n",
      "Epoch: 22 Loss D.: 0.4995003044605255\n",
      "Epoch: 22 Loss G.: 1.37718665599823\n",
      "Epoch: 23 Loss D.: 0.490934282541275\n",
      "Epoch: 23 Loss G.: 1.472068428993225\n",
      "Epoch: 24 Loss D.: 0.4172751009464264\n",
      "Epoch: 24 Loss G.: 1.2921901941299438\n",
      "Epoch: 25 Loss D.: 0.46666648983955383\n",
      "Epoch: 25 Loss G.: 1.5185925960540771\n",
      "Epoch: 26 Loss D.: 0.527850866317749\n",
      "Epoch: 26 Loss G.: 1.3719464540481567\n",
      "Epoch: 27 Loss D.: 0.4803203344345093\n",
      "Epoch: 27 Loss G.: 1.19281005859375\n",
      "Epoch: 28 Loss D.: 0.5297404527664185\n",
      "Epoch: 28 Loss G.: 1.4954665899276733\n",
      "Epoch: 29 Loss D.: 0.41766688227653503\n",
      "Epoch: 29 Loss G.: 1.380930781364441\n",
      "Epoch: 30 Loss D.: 0.49947404861450195\n",
      "Epoch: 30 Loss G.: 1.2493786811828613\n",
      "Epoch: 31 Loss D.: 0.3837084174156189\n",
      "Epoch: 31 Loss G.: 1.416229248046875\n",
      "Epoch: 32 Loss D.: 0.48046085238456726\n",
      "Epoch: 32 Loss G.: 1.2332818508148193\n",
      "Epoch: 33 Loss D.: 0.39915990829467773\n",
      "Epoch: 33 Loss G.: 1.3528761863708496\n",
      "Epoch: 34 Loss D.: 0.5071197152137756\n",
      "Epoch: 34 Loss G.: 1.1820943355560303\n",
      "Epoch: 35 Loss D.: 0.4244115352630615\n",
      "Epoch: 35 Loss G.: 1.3424279689788818\n",
      "Epoch: 36 Loss D.: 0.5475407838821411\n",
      "Epoch: 36 Loss G.: 1.3528332710266113\n",
      "Epoch: 37 Loss D.: 0.49591341614723206\n",
      "Epoch: 37 Loss G.: 1.2040748596191406\n",
      "Epoch: 38 Loss D.: 0.5237134695053101\n",
      "Epoch: 38 Loss G.: 1.2743791341781616\n",
      "Epoch: 39 Loss D.: 0.5706344842910767\n",
      "Epoch: 39 Loss G.: 1.0854759216308594\n",
      "Epoch: 40 Loss D.: 0.5469087362289429\n",
      "Epoch: 40 Loss G.: 1.2312015295028687\n",
      "Epoch: 41 Loss D.: 0.45420604944229126\n",
      "Epoch: 41 Loss G.: 1.2780625820159912\n",
      "Epoch: 42 Loss D.: 0.5588110685348511\n",
      "Epoch: 42 Loss G.: 1.127852439880371\n",
      "Epoch: 43 Loss D.: 0.4726029634475708\n",
      "Epoch: 43 Loss G.: 1.3099863529205322\n",
      "Epoch: 44 Loss D.: 0.4507405459880829\n",
      "Epoch: 44 Loss G.: 1.529755711555481\n",
      "Epoch: 45 Loss D.: 0.5091065168380737\n",
      "Epoch: 45 Loss G.: 1.2912355661392212\n",
      "Epoch: 46 Loss D.: 0.44209036231040955\n",
      "Epoch: 46 Loss G.: 1.2244696617126465\n",
      "Epoch: 47 Loss D.: 0.4179849624633789\n",
      "Epoch: 47 Loss G.: 1.401133418083191\n",
      "Epoch: 48 Loss D.: 0.6518307328224182\n",
      "Epoch: 48 Loss G.: 1.3524723052978516\n",
      "Epoch: 49 Loss D.: 0.5879800915718079\n",
      "Epoch: 49 Loss G.: 1.0933436155319214\n",
      "Epoch: 50 Loss D.: 0.5492870807647705\n",
      "Epoch: 50 Loss G.: 1.3752589225769043\n",
      "Epoch: 51 Loss D.: 0.47399404644966125\n",
      "Epoch: 51 Loss G.: 1.2029471397399902\n",
      "Epoch: 52 Loss D.: 0.4987946152687073\n",
      "Epoch: 52 Loss G.: 1.2307275533676147\n",
      "Epoch: 53 Loss D.: 0.524929404258728\n",
      "Epoch: 53 Loss G.: 1.124062180519104\n",
      "Epoch: 54 Loss D.: 0.4331662654876709\n",
      "Epoch: 54 Loss G.: 1.3501704931259155\n",
      "Epoch: 55 Loss D.: 0.4494982957839966\n",
      "Epoch: 55 Loss G.: 1.4541599750518799\n",
      "Epoch: 56 Loss D.: 0.5237458348274231\n",
      "Epoch: 56 Loss G.: 0.9894598722457886\n",
      "Epoch: 57 Loss D.: 0.5024162530899048\n",
      "Epoch: 57 Loss G.: 1.211596965789795\n",
      "Epoch: 58 Loss D.: 0.43951961398124695\n",
      "Epoch: 58 Loss G.: 1.525075078010559\n",
      "Epoch: 59 Loss D.: 0.5273529291152954\n",
      "Epoch: 59 Loss G.: 1.2930915355682373\n",
      "Epoch: 60 Loss D.: 0.6052069664001465\n",
      "Epoch: 60 Loss G.: 1.2283645868301392\n",
      "Epoch: 61 Loss D.: 0.48924657702445984\n",
      "Epoch: 61 Loss G.: 1.2972283363342285\n",
      "Epoch: 62 Loss D.: 0.5905274152755737\n",
      "Epoch: 62 Loss G.: 1.3743674755096436\n",
      "Epoch: 63 Loss D.: 0.5015759468078613\n",
      "Epoch: 63 Loss G.: 1.3392913341522217\n",
      "Epoch: 64 Loss D.: 0.46889588236808777\n",
      "Epoch: 64 Loss G.: 1.2959237098693848\n",
      "Epoch: 65 Loss D.: 0.421413779258728\n",
      "Epoch: 65 Loss G.: 1.203074336051941\n",
      "Epoch: 66 Loss D.: 0.5651390552520752\n",
      "Epoch: 66 Loss G.: 1.200864553451538\n",
      "Epoch: 67 Loss D.: 0.5210850238800049\n",
      "Epoch: 67 Loss G.: 1.362156629562378\n",
      "Epoch: 68 Loss D.: 0.5514212250709534\n",
      "Epoch: 68 Loss G.: 1.059840440750122\n",
      "Epoch: 69 Loss D.: 0.5013999938964844\n",
      "Epoch: 69 Loss G.: 1.293448567390442\n",
      "Epoch: 70 Loss D.: 0.46071067452430725\n",
      "Epoch: 70 Loss G.: 1.2016175985336304\n",
      "Epoch: 71 Loss D.: 0.569604754447937\n",
      "Epoch: 71 Loss G.: 1.3109745979309082\n",
      "Epoch: 72 Loss D.: 0.6307625770568848\n",
      "Epoch: 72 Loss G.: 1.1934925317764282\n",
      "Epoch: 73 Loss D.: 0.5262206196784973\n",
      "Epoch: 73 Loss G.: 1.3059343099594116\n",
      "Epoch: 74 Loss D.: 0.47563719749450684\n",
      "Epoch: 74 Loss G.: 1.514156460762024\n",
      "Epoch: 75 Loss D.: 0.4615088105201721\n",
      "Epoch: 75 Loss G.: 1.2826910018920898\n",
      "Epoch: 76 Loss D.: 0.48226988315582275\n",
      "Epoch: 76 Loss G.: 1.2221819162368774\n",
      "Epoch: 77 Loss D.: 0.48390188813209534\n",
      "Epoch: 77 Loss G.: 1.2851016521453857\n",
      "Epoch: 78 Loss D.: 0.47051069140434265\n",
      "Epoch: 78 Loss G.: 1.0497220754623413\n",
      "Epoch: 79 Loss D.: 0.4823892116546631\n",
      "Epoch: 79 Loss G.: 1.2826000452041626\n",
      "Epoch: 80 Loss D.: 0.400424599647522\n",
      "Epoch: 80 Loss G.: 1.2148584127426147\n",
      "Epoch: 81 Loss D.: 0.5192825794219971\n",
      "Epoch: 81 Loss G.: 1.0065251588821411\n",
      "Epoch: 82 Loss D.: 0.5195332765579224\n",
      "Epoch: 82 Loss G.: 1.418548822402954\n",
      "Epoch: 83 Loss D.: 0.5148787498474121\n",
      "Epoch: 83 Loss G.: 1.2350918054580688\n",
      "Epoch: 84 Loss D.: 0.5359687805175781\n",
      "Epoch: 84 Loss G.: 1.26906418800354\n",
      "Epoch: 85 Loss D.: 0.41311776638031006\n",
      "Epoch: 85 Loss G.: 1.1163140535354614\n",
      "Epoch: 86 Loss D.: 0.4381336271762848\n",
      "Epoch: 86 Loss G.: 1.3850743770599365\n",
      "Epoch: 87 Loss D.: 0.40923869609832764\n",
      "Epoch: 87 Loss G.: 1.4569505453109741\n",
      "Epoch: 88 Loss D.: 0.4186656177043915\n",
      "Epoch: 88 Loss G.: 1.2281345129013062\n",
      "Epoch: 89 Loss D.: 0.4455639719963074\n",
      "Epoch: 89 Loss G.: 1.1920411586761475\n",
      "Epoch: 90 Loss D.: 0.4456827640533447\n",
      "Epoch: 90 Loss G.: 1.4484370946884155\n",
      "Epoch: 91 Loss D.: 0.47052624821662903\n",
      "Epoch: 91 Loss G.: 1.20883047580719\n",
      "Epoch: 92 Loss D.: 0.5349140763282776\n",
      "Epoch: 92 Loss G.: 1.2970882654190063\n",
      "Epoch: 93 Loss D.: 0.38420331478118896\n",
      "Epoch: 93 Loss G.: 1.2860231399536133\n",
      "Epoch: 94 Loss D.: 0.5408018827438354\n",
      "Epoch: 94 Loss G.: 1.4916514158248901\n",
      "Epoch: 95 Loss D.: 0.4511902630329132\n",
      "Epoch: 95 Loss G.: 1.155545949935913\n",
      "Epoch: 96 Loss D.: 0.4776774048805237\n",
      "Epoch: 96 Loss G.: 1.2803621292114258\n",
      "Epoch: 97 Loss D.: 0.5885398983955383\n",
      "Epoch: 97 Loss G.: 1.395939588546753\n",
      "Epoch: 98 Loss D.: 0.40419429540634155\n",
      "Epoch: 98 Loss G.: 1.3887031078338623\n",
      "Epoch: 99 Loss D.: 0.5316210389137268\n",
      "Epoch: 99 Loss G.: 1.1527990102767944\n"
     ]
    }
   ],
   "source": [
    "for epoch in range(num_epochs):\n",
    "    for n, (real_samples, mnist_labels) in enumerate(train_loader):\n",
    "        # Данные для тренировки дискриминатора\n",
    "        real_samples = real_samples.to(device=device)\n",
    "        real_samples_labels = torch.ones((batch_size, 1)).to(\n",
    "            device=device)\n",
    "        latent_space_samples = torch.randn((batch_size, 100)).to(\n",
    "            device=device)\n",
    "        generated_samples = generator(latent_space_samples)\n",
    "        generated_samples_labels = torch.zeros((batch_size, 1)).to(\n",
    "            device=device)\n",
    "        all_samples = torch.cat((real_samples, generated_samples))\n",
    "        all_samples_labels = torch.cat(\n",
    "            (real_samples_labels, generated_samples_labels))\n",
    "\n",
    "        # Обучение дискриминатора\n",
    "        discriminator.zero_grad()\n",
    "        output_discriminator = discriminator(all_samples)\n",
    "        loss_discriminator = loss_function(\n",
    "            output_discriminator, all_samples_labels)\n",
    "        loss_discriminator.backward()\n",
    "        optimizer_discriminator.step()\n",
    "\n",
    "        # Данные для обучения генератора\n",
    "        latent_space_samples = torch.randn((batch_size, 100)).to(\n",
    "            device=device)\n",
    "\n",
    "        # Обучение генератора\n",
    "        generator.zero_grad()\n",
    "        generated_samples = generator(latent_space_samples)\n",
    "        output_discriminator_generated = discriminator(generated_samples)\n",
    "        loss_generator = loss_function(\n",
    "            output_discriminator_generated, real_samples_labels)\n",
    "        loss_generator.backward()\n",
    "        optimizer_generator.step()\n",
    "\n",
    "        # Показываем loss\n",
    "        if n == batch_size - 1:\n",
    "            print(f\"Epoch: {epoch} Loss D.: {loss_discriminator}\")\n",
    "            print(f\"Epoch: {epoch} Loss G.: {loss_generator}\")"
   ]
  },
  {
   "cell_type": "markdown",
   "metadata": {},
   "source": [
    "# Проверка сгенерированных GAN образцов\n",
    "\n",
    "Сгенерируем несколько образцов «рукописных цифр». Для этого передадим генератору инициирующий набор случайных чисел:"
   ]
  },
  {
   "cell_type": "code",
   "execution_count": 26,
   "metadata": {},
   "outputs": [],
   "source": [
    "latent_space_samples = torch.randn(batch_size, 100).to(device=device)\n",
    "generated_samples = generator(latent_space_samples)"
   ]
  },
  {
   "cell_type": "markdown",
   "metadata": {},
   "source": [
    "Чтобы построить сгенерированные выборки, нужно переместить данные обратно в центральный процессор, если их обработка происходила на графическом процессоре. Для этого достаточно вызвать метод `cpu()`. Как и раньше, перед  построением данных необходимо вызвать `.detach()`:"
   ]
  },
  {
   "cell_type": "code",
   "execution_count": 27,
   "metadata": {},
   "outputs": [
    {
     "data": {
      "image/png": "[encoded data removed]",
      "text/plain": [
       "<Figure size 640x480 with 16 Axes>"
      ]
     },
     "metadata": {},
     "output_type": "display_data"
    }
   ],
   "source": [
    "generated_samples = generated_samples.cpu().detach()\n",
    "\n",
    "for i in range(16):\n",
    "    ax = plt.subplot(4, 4, i + 1)\n",
    "    plt.imshow(generated_samples[i].reshape(28, 28), cmap=\"gray_r\")\n",
    "    plt.xticks([])\n",
    "    plt.yticks([])"
   ]
  },
  {
   "cell_type": "markdown",
   "metadata": {},
   "source": [
    "На выходе должны получиться цифры, напоминающие обучющие данные.\n",
    "\n",
    "![](https://files.realpython.com/media/fig_generated_mnist_mpl.ecc483e9dd9d.png)\n",
    "\n",
    "После пятидесяти эпох обучения есть несколько цифр, которые как будто писала рука человека. Результаты можно улучшить, проводя более длительное обучение (с бо́льшим количеством эпох). Как и в предыдущем примере, можно визуализировать эволюцию обучения, используя фиксированный тензор входных данных и подавая его на генератор в конце каждой эпохи:\n",
    "\n",
    "![](https://files.realpython.com/media/fig_gan_mnist.5d8784a85944.gif)\n",
    "\n",
    "В начале процесса обучения сгенерированные изображения абсолютно случайны. По мере обучения генератор изучает распределение реальных данных, и примерно через двадцать эпох некоторые сгенерированные изображения цифр уже напоминают реальные данные."
   ]
  },
  {
   "cell_type": "markdown",
   "metadata": {},
   "source": [
    "# Вывод:\n",
    "### К сожалению dataset нужный для ноутбука с сегментаций Северстали, загружать с Kaggle могут только верифицированные пользователи, а пользователей из России не верифицируют. Поэтому я выбрал пример GAN с генерацией рукописных цифр.  \n",
    "\n",
    "### На данном примере взятом с [GitHub](https://github.com/matyushkin/lessons/blob/master/neural_networks/GAN_intro.ipynb) я на реальном примере увидел как обучаются и работает, генеративная состязательная сеть (GAN). Мне удалось улучшить результат генерации рукописных цифр, увеличив количество эпох до 100, при обучении НС. Модель нейронной сети построена на PyTorch.\n",
    "\n"
   ]
  },
  {
   "cell_type": "code",
   "execution_count": null,
   "metadata": {},
   "outputs": [],
   "source": []
  }
 ],
 "metadata": {
  "kernelspec": {
   "display_name": "Python 3 (ipykernel)",
   "language": "python",
   "name": "python3"
  },
  "language_info": {
   "codemirror_mode": {
    "name": "ipython",
    "version": 3
   },
   "file_extension": ".py",
   "mimetype": "text/x-python",
   "name": "python",
   "nbconvert_exporter": "python",
   "pygments_lexer": "ipython3",
   "version": "3.11.8"
  }
 },
 "nbformat": 4,
 "nbformat_minor": 4
}
